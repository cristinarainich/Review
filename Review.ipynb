{
  "nbformat": 4,
  "nbformat_minor": 0,
  "metadata": {
    "colab": {
      "provenance": [],
      "authorship_tag": "ABX9TyO98Yblo9+7CVZllU7CW6gk",
      "include_colab_link": true
    },
    "kernelspec": {
      "name": "python3",
      "display_name": "Python 3"
    },
    "language_info": {
      "name": "python"
    }
  },
  "cells": [
    {
      "cell_type": "markdown",
      "metadata": {
        "id": "view-in-github",
        "colab_type": "text"
      },
      "source": [
        "<a href=\"https://colab.research.google.com/github/cristinarainich/Review/blob/main/Review.ipynb\" target=\"_parent\"><img src=\"https://colab.research.google.com/assets/colab-badge.svg\" alt=\"Open In Colab\"/></a>"
      ]
    },
    {
      "cell_type": "code",
      "execution_count": 1,
      "metadata": {
        "id": "LWCWL-AkeVgX",
        "colab": {
          "base_uri": "https://localhost:8080/"
        },
        "outputId": "2dfa34de-40d5-45b1-e4c8-6b9559c94a06"
      },
      "outputs": [
        {
          "output_type": "stream",
          "name": "stdout",
          "text": [
            "Populating the interactive namespace from numpy and matplotlib\n"
          ]
        }
      ],
      "source": [
        "from pathlib import Path\n",
        "import pandas as pd\n",
        "import numpy as np"
      ]
    },
    {
      "cell_type": "code",
      "source": [
        "from google.colab import drive\n",
        "drive.mount('/content/drive')"
      ],
      "metadata": {
        "colab": {
          "base_uri": "https://localhost:8080/"
        },
        "id": "SREKVrx_ey5m",
        "outputId": "a7e7a2b6-2661-404b-d164-ea1855350785"
      },
      "execution_count": 141,
      "outputs": [
        {
          "output_type": "stream",
          "name": "stdout",
          "text": [
            "Drive already mounted at /content/drive; to attempt to forcibly remount, call drive.mount(\"/content/drive\", force_remount=True).\n"
          ]
        }
      ]
    },
    {
      "cell_type": "code",
      "source": [
        "working_path = Path('/content/drive/MyDrive/KKNV')"
      ],
      "metadata": {
        "id": "UMan1i8Ze5xa"
      },
      "execution_count": 142,
      "outputs": []
    },
    {
      "cell_type": "code",
      "source": [
        "cd /content/drive/MyDrive/KKNV"
      ],
      "metadata": {
        "colab": {
          "base_uri": "https://localhost:8080/"
        },
        "id": "jELO3_3mfDxJ",
        "outputId": "e805d1d3-2656-46ee-aa3f-2ed9056c4aa2"
      },
      "execution_count": 143,
      "outputs": [
        {
          "output_type": "stream",
          "name": "stdout",
          "text": [
            "/content/drive/MyDrive/KKNV\n"
          ]
        }
      ]
    },
    {
      "cell_type": "code",
      "source": [
        "!ls /content/drive/MyDrive/KKNV"
      ],
      "metadata": {
        "colab": {
          "base_uri": "https://localhost:8080/"
        },
        "id": "ESUJdMkEfLVY",
        "outputId": "da14939c-4b33-4410-c654-ef3e3dea0381"
      },
      "execution_count": 144,
      "outputs": [
        {
          "output_type": "stream",
          "name": "stdout",
          "text": [
            " full_pheno.csv       HBN_R6_Pheno.csv\t   pheno_mri.csv\n",
            " HBN_R10_Pheno.csv    HBN_R7_Pheno.csv\t  'pubmed dorsal stream.csv'\n",
            " HBN_R1_1_Pheno.csv   HBN_R8_Pheno.csv\t  'pubmed motion processing.csv'\n",
            " HBN_R2_1_Pheno.csv   HBN_R9_Pheno.csv\t  'pubmed smooth pursuit.csv'\n",
            " HBN_R3_Pheno.csv     iq_overview.csv\t   Query1.csv\n",
            " HBN_R4_Pheno.csv     iq_overview.gsheet   zotero.csv\n",
            " HBN_R5_Pheno.csv     Pheno.csv\n"
          ]
        }
      ]
    },
    {
      "cell_type": "code",
      "source": [
        "pub1 = pd.read_csv(\n",
        "    working_path.joinpath('pubmed dorsal stream.csv'))\n",
        "pub2 = pd.read_csv(\n",
        "    working_path.joinpath('pubmed motion processing.csv')\n",
        ")\n",
        "pub3 = pd.read_csv(\n",
        "    working_path.joinpath('pubmed smooth pursuit.csv')\n",
        ")"
      ],
      "metadata": {
        "id": "8IeCbg2rg_Jd"
      },
      "execution_count": 145,
      "outputs": []
    },
    {
      "cell_type": "code",
      "source": [
        "zotero = pd.read_csv(\n",
        "    working_path.joinpath('zotero.csv')\n",
        ")"
      ],
      "metadata": {
        "id": "p78FffJErw1-"
      },
      "execution_count": 129,
      "outputs": []
    },
    {
      "cell_type": "code",
      "source": [
        "zotero_ = zotero[['Publication Year', 'Author', 'Title',\n",
        "       'Publication Title', 'DOI', 'Abstract Note']]"
      ],
      "metadata": {
        "id": "hiKxMvR-sDnu"
      },
      "execution_count": 130,
      "outputs": []
    },
    {
      "cell_type": "code",
      "source": [
        "zotero_.head()"
      ],
      "metadata": {
        "colab": {
          "base_uri": "https://localhost:8080/",
          "height": 354
        },
        "id": "XKJzCBVRsjBQ",
        "outputId": "ede7593c-2b28-4d01-c541-131d5eb51e85"
      },
      "execution_count": 131,
      "outputs": [
        {
          "output_type": "execute_result",
          "data": {
            "text/plain": [
              "   Publication Year                                             Author  \\\n",
              "0              2015  Traschütz, Andreas; Kreiter, Andreas K.; Wegen...   \n",
              "1              2010  Benassi, Mariagrazia; Simonelli, Letizia; Giov...   \n",
              "2              2016  Gori, Simone; Seitz, Aaron R.; Ronconi, Luca; ...   \n",
              "3              1996  Eden, Guinevere F.; VanMeter, John W.; Rumsey,...   \n",
              "4              1991  Livingstone, Margaret S.; Rosen, Glenn D.; Dri...   \n",
              "\n",
              "                                               Title  \\\n",
              "0  Transient activity in monkey area MT represent...   \n",
              "1  Coherence motion perception in developmental d...   \n",
              "2  Multiple Causal Links Between Magnocellular–Do...   \n",
              "3  Abnormal processing of visual motion in dyslex...   \n",
              "4  Physiological and anatomical evidence for a ma...   \n",
              "\n",
              "                                   Publication Title                      DOI  \\\n",
              "0                         Journal of Neurophysiology    10.1152/jn.00335.2014   \n",
              "1                                           Dyslexia          10.1002/dys.412   \n",
              "2                                    Cerebral Cortex    10.1093/cercor/bhv206   \n",
              "3                                             Nature         10.1038/382066a0   \n",
              "4  Proceedings of the National Academy of Science...  10.1073/pnas.88.18.7943   \n",
              "\n",
              "                                       Abstract Note  \n",
              "0  Neurons in the middle temporal area (MT) respo...  \n",
              "1  The magnitude of the association between devel...  \n",
              "2  Although impaired auditory-phonological proces...  \n",
              "3  IT is widely accepted that dyslexics have defi...  \n",
              "4  Abstract Several behavioral studies have shown...  "
            ],
            "text/html": [
              "\n",
              "  <div id=\"df-dbe566b9-5f27-45c1-9d71-62dbf6d6085c\">\n",
              "    <div class=\"colab-df-container\">\n",
              "      <div>\n",
              "<style scoped>\n",
              "    .dataframe tbody tr th:only-of-type {\n",
              "        vertical-align: middle;\n",
              "    }\n",
              "\n",
              "    .dataframe tbody tr th {\n",
              "        vertical-align: top;\n",
              "    }\n",
              "\n",
              "    .dataframe thead th {\n",
              "        text-align: right;\n",
              "    }\n",
              "</style>\n",
              "<table border=\"1\" class=\"dataframe\">\n",
              "  <thead>\n",
              "    <tr style=\"text-align: right;\">\n",
              "      <th></th>\n",
              "      <th>Publication Year</th>\n",
              "      <th>Author</th>\n",
              "      <th>Title</th>\n",
              "      <th>Publication Title</th>\n",
              "      <th>DOI</th>\n",
              "      <th>Abstract Note</th>\n",
              "    </tr>\n",
              "  </thead>\n",
              "  <tbody>\n",
              "    <tr>\n",
              "      <th>0</th>\n",
              "      <td>2015</td>\n",
              "      <td>Traschütz, Andreas; Kreiter, Andreas K.; Wegen...</td>\n",
              "      <td>Transient activity in monkey area MT represent...</td>\n",
              "      <td>Journal of Neurophysiology</td>\n",
              "      <td>10.1152/jn.00335.2014</td>\n",
              "      <td>Neurons in the middle temporal area (MT) respo...</td>\n",
              "    </tr>\n",
              "    <tr>\n",
              "      <th>1</th>\n",
              "      <td>2010</td>\n",
              "      <td>Benassi, Mariagrazia; Simonelli, Letizia; Giov...</td>\n",
              "      <td>Coherence motion perception in developmental d...</td>\n",
              "      <td>Dyslexia</td>\n",
              "      <td>10.1002/dys.412</td>\n",
              "      <td>The magnitude of the association between devel...</td>\n",
              "    </tr>\n",
              "    <tr>\n",
              "      <th>2</th>\n",
              "      <td>2016</td>\n",
              "      <td>Gori, Simone; Seitz, Aaron R.; Ronconi, Luca; ...</td>\n",
              "      <td>Multiple Causal Links Between Magnocellular–Do...</td>\n",
              "      <td>Cerebral Cortex</td>\n",
              "      <td>10.1093/cercor/bhv206</td>\n",
              "      <td>Although impaired auditory-phonological proces...</td>\n",
              "    </tr>\n",
              "    <tr>\n",
              "      <th>3</th>\n",
              "      <td>1996</td>\n",
              "      <td>Eden, Guinevere F.; VanMeter, John W.; Rumsey,...</td>\n",
              "      <td>Abnormal processing of visual motion in dyslex...</td>\n",
              "      <td>Nature</td>\n",
              "      <td>10.1038/382066a0</td>\n",
              "      <td>IT is widely accepted that dyslexics have defi...</td>\n",
              "    </tr>\n",
              "    <tr>\n",
              "      <th>4</th>\n",
              "      <td>1991</td>\n",
              "      <td>Livingstone, Margaret S.; Rosen, Glenn D.; Dri...</td>\n",
              "      <td>Physiological and anatomical evidence for a ma...</td>\n",
              "      <td>Proceedings of the National Academy of Science...</td>\n",
              "      <td>10.1073/pnas.88.18.7943</td>\n",
              "      <td>Abstract Several behavioral studies have shown...</td>\n",
              "    </tr>\n",
              "  </tbody>\n",
              "</table>\n",
              "</div>\n",
              "      <button class=\"colab-df-convert\" onclick=\"convertToInteractive('df-dbe566b9-5f27-45c1-9d71-62dbf6d6085c')\"\n",
              "              title=\"Convert this dataframe to an interactive table.\"\n",
              "              style=\"display:none;\">\n",
              "        \n",
              "  <svg xmlns=\"http://www.w3.org/2000/svg\" height=\"24px\"viewBox=\"0 0 24 24\"\n",
              "       width=\"24px\">\n",
              "    <path d=\"M0 0h24v24H0V0z\" fill=\"none\"/>\n",
              "    <path d=\"M18.56 5.44l.94 2.06.94-2.06 2.06-.94-2.06-.94-.94-2.06-.94 2.06-2.06.94zm-11 1L8.5 8.5l.94-2.06 2.06-.94-2.06-.94L8.5 2.5l-.94 2.06-2.06.94zm10 10l.94 2.06.94-2.06 2.06-.94-2.06-.94-.94-2.06-.94 2.06-2.06.94z\"/><path d=\"M17.41 7.96l-1.37-1.37c-.4-.4-.92-.59-1.43-.59-.52 0-1.04.2-1.43.59L10.3 9.45l-7.72 7.72c-.78.78-.78 2.05 0 2.83L4 21.41c.39.39.9.59 1.41.59.51 0 1.02-.2 1.41-.59l7.78-7.78 2.81-2.81c.8-.78.8-2.07 0-2.86zM5.41 20L4 18.59l7.72-7.72 1.47 1.35L5.41 20z\"/>\n",
              "  </svg>\n",
              "      </button>\n",
              "      \n",
              "  <style>\n",
              "    .colab-df-container {\n",
              "      display:flex;\n",
              "      flex-wrap:wrap;\n",
              "      gap: 12px;\n",
              "    }\n",
              "\n",
              "    .colab-df-convert {\n",
              "      background-color: #E8F0FE;\n",
              "      border: none;\n",
              "      border-radius: 50%;\n",
              "      cursor: pointer;\n",
              "      display: none;\n",
              "      fill: #1967D2;\n",
              "      height: 32px;\n",
              "      padding: 0 0 0 0;\n",
              "      width: 32px;\n",
              "    }\n",
              "\n",
              "    .colab-df-convert:hover {\n",
              "      background-color: #E2EBFA;\n",
              "      box-shadow: 0px 1px 2px rgba(60, 64, 67, 0.3), 0px 1px 3px 1px rgba(60, 64, 67, 0.15);\n",
              "      fill: #174EA6;\n",
              "    }\n",
              "\n",
              "    [theme=dark] .colab-df-convert {\n",
              "      background-color: #3B4455;\n",
              "      fill: #D2E3FC;\n",
              "    }\n",
              "\n",
              "    [theme=dark] .colab-df-convert:hover {\n",
              "      background-color: #434B5C;\n",
              "      box-shadow: 0px 1px 3px 1px rgba(0, 0, 0, 0.15);\n",
              "      filter: drop-shadow(0px 1px 2px rgba(0, 0, 0, 0.3));\n",
              "      fill: #FFFFFF;\n",
              "    }\n",
              "  </style>\n",
              "\n",
              "      <script>\n",
              "        const buttonEl =\n",
              "          document.querySelector('#df-dbe566b9-5f27-45c1-9d71-62dbf6d6085c button.colab-df-convert');\n",
              "        buttonEl.style.display =\n",
              "          google.colab.kernel.accessAllowed ? 'block' : 'none';\n",
              "\n",
              "        async function convertToInteractive(key) {\n",
              "          const element = document.querySelector('#df-dbe566b9-5f27-45c1-9d71-62dbf6d6085c');\n",
              "          const dataTable =\n",
              "            await google.colab.kernel.invokeFunction('convertToInteractive',\n",
              "                                                     [key], {});\n",
              "          if (!dataTable) return;\n",
              "\n",
              "          const docLinkHtml = 'Like what you see? Visit the ' +\n",
              "            '<a target=\"_blank\" href=https://colab.research.google.com/notebooks/data_table.ipynb>data table notebook</a>'\n",
              "            + ' to learn more about interactive tables.';\n",
              "          element.innerHTML = '';\n",
              "          dataTable['output_type'] = 'display_data';\n",
              "          await google.colab.output.renderOutput(dataTable, element);\n",
              "          const docLink = document.createElement('div');\n",
              "          docLink.innerHTML = docLinkHtml;\n",
              "          element.appendChild(docLink);\n",
              "        }\n",
              "      </script>\n",
              "    </div>\n",
              "  </div>\n",
              "  "
            ]
          },
          "metadata": {},
          "execution_count": 131
        }
      ]
    },
    {
      "cell_type": "code",
      "source": [
        "pub1_ = pub1[['Title', 'Authors', 'Journal/Book',\n",
        "       'Publication Year', 'DOI']]\n",
        "pub2_ = pub2[['Title', 'Authors', 'Journal/Book',\n",
        "       'Publication Year', 'DOI']]\n",
        "pub3_ = pub3[['Title', 'Authors', 'Journal/Book',\n",
        "       'Publication Year', 'DOI']]"
      ],
      "metadata": {
        "id": "SyRIDv5sy-l7"
      },
      "execution_count": 151,
      "outputs": []
    },
    {
      "cell_type": "code",
      "source": [
        "pub = pd.concat([pub1_, pub2_])\n",
        "pub = pd.concat([pub, pub3_])"
      ],
      "metadata": {
        "id": "eTNBsE1qgYP2"
      },
      "execution_count": 152,
      "outputs": []
    },
    {
      "cell_type": "code",
      "source": [
        "pub.head()"
      ],
      "metadata": {
        "colab": {
          "base_uri": "https://localhost:8080/",
          "height": 206
        },
        "id": "ErbuUo-7zX8J",
        "outputId": "14b94b02-1cb0-4fa1-9343-0f6831e33a49"
      },
      "execution_count": 153,
      "outputs": [
        {
          "output_type": "execute_result",
          "data": {
            "text/plain": [
              "                                               Title  \\\n",
              "0  The effects of preterm birth on visual develop...   \n",
              "1                                            Agnosia   \n",
              "2  Visual motion processing in Chinese children w...   \n",
              "3                Motion perception and its disorders   \n",
              "4  Beyond the global motion deficit hypothesis of...   \n",
              "\n",
              "                                             Authors       Journal/Book  \\\n",
              "0  Leung MP, Thompson B, Black J, Dai S, Alsweile...     Clin Exp Optom   \n",
              "1                                 Kumar A, Wroten M.         StatPearls   \n",
              "2                             Liu YF, Qian Y, Bi HY.           Dyslexia   \n",
              "3                                        Barton JJS.  Handb Clin Neurol   \n",
              "4                            Piotrowska B, Willis A.         Vision Res   \n",
              "\n",
              "   Publication Year                                 DOI  \n",
              "0              2018                   10.1111/cxo.12578  \n",
              "1              2022                                 NaN  \n",
              "2              2022                    10.1002/dys.1726  \n",
              "3              2021  10.1016/B978-0-12-821377-3.00013-1  \n",
              "4              2019        10.1016/j.visres.2019.03.007  "
            ],
            "text/html": [
              "\n",
              "  <div id=\"df-0d7ed7bc-9f3e-4fa7-9fa7-0922f44a50ec\">\n",
              "    <div class=\"colab-df-container\">\n",
              "      <div>\n",
              "<style scoped>\n",
              "    .dataframe tbody tr th:only-of-type {\n",
              "        vertical-align: middle;\n",
              "    }\n",
              "\n",
              "    .dataframe tbody tr th {\n",
              "        vertical-align: top;\n",
              "    }\n",
              "\n",
              "    .dataframe thead th {\n",
              "        text-align: right;\n",
              "    }\n",
              "</style>\n",
              "<table border=\"1\" class=\"dataframe\">\n",
              "  <thead>\n",
              "    <tr style=\"text-align: right;\">\n",
              "      <th></th>\n",
              "      <th>Title</th>\n",
              "      <th>Authors</th>\n",
              "      <th>Journal/Book</th>\n",
              "      <th>Publication Year</th>\n",
              "      <th>DOI</th>\n",
              "    </tr>\n",
              "  </thead>\n",
              "  <tbody>\n",
              "    <tr>\n",
              "      <th>0</th>\n",
              "      <td>The effects of preterm birth on visual develop...</td>\n",
              "      <td>Leung MP, Thompson B, Black J, Dai S, Alsweile...</td>\n",
              "      <td>Clin Exp Optom</td>\n",
              "      <td>2018</td>\n",
              "      <td>10.1111/cxo.12578</td>\n",
              "    </tr>\n",
              "    <tr>\n",
              "      <th>1</th>\n",
              "      <td>Agnosia</td>\n",
              "      <td>Kumar A, Wroten M.</td>\n",
              "      <td>StatPearls</td>\n",
              "      <td>2022</td>\n",
              "      <td>NaN</td>\n",
              "    </tr>\n",
              "    <tr>\n",
              "      <th>2</th>\n",
              "      <td>Visual motion processing in Chinese children w...</td>\n",
              "      <td>Liu YF, Qian Y, Bi HY.</td>\n",
              "      <td>Dyslexia</td>\n",
              "      <td>2022</td>\n",
              "      <td>10.1002/dys.1726</td>\n",
              "    </tr>\n",
              "    <tr>\n",
              "      <th>3</th>\n",
              "      <td>Motion perception and its disorders</td>\n",
              "      <td>Barton JJS.</td>\n",
              "      <td>Handb Clin Neurol</td>\n",
              "      <td>2021</td>\n",
              "      <td>10.1016/B978-0-12-821377-3.00013-1</td>\n",
              "    </tr>\n",
              "    <tr>\n",
              "      <th>4</th>\n",
              "      <td>Beyond the global motion deficit hypothesis of...</td>\n",
              "      <td>Piotrowska B, Willis A.</td>\n",
              "      <td>Vision Res</td>\n",
              "      <td>2019</td>\n",
              "      <td>10.1016/j.visres.2019.03.007</td>\n",
              "    </tr>\n",
              "  </tbody>\n",
              "</table>\n",
              "</div>\n",
              "      <button class=\"colab-df-convert\" onclick=\"convertToInteractive('df-0d7ed7bc-9f3e-4fa7-9fa7-0922f44a50ec')\"\n",
              "              title=\"Convert this dataframe to an interactive table.\"\n",
              "              style=\"display:none;\">\n",
              "        \n",
              "  <svg xmlns=\"http://www.w3.org/2000/svg\" height=\"24px\"viewBox=\"0 0 24 24\"\n",
              "       width=\"24px\">\n",
              "    <path d=\"M0 0h24v24H0V0z\" fill=\"none\"/>\n",
              "    <path d=\"M18.56 5.44l.94 2.06.94-2.06 2.06-.94-2.06-.94-.94-2.06-.94 2.06-2.06.94zm-11 1L8.5 8.5l.94-2.06 2.06-.94-2.06-.94L8.5 2.5l-.94 2.06-2.06.94zm10 10l.94 2.06.94-2.06 2.06-.94-2.06-.94-.94-2.06-.94 2.06-2.06.94z\"/><path d=\"M17.41 7.96l-1.37-1.37c-.4-.4-.92-.59-1.43-.59-.52 0-1.04.2-1.43.59L10.3 9.45l-7.72 7.72c-.78.78-.78 2.05 0 2.83L4 21.41c.39.39.9.59 1.41.59.51 0 1.02-.2 1.41-.59l7.78-7.78 2.81-2.81c.8-.78.8-2.07 0-2.86zM5.41 20L4 18.59l7.72-7.72 1.47 1.35L5.41 20z\"/>\n",
              "  </svg>\n",
              "      </button>\n",
              "      \n",
              "  <style>\n",
              "    .colab-df-container {\n",
              "      display:flex;\n",
              "      flex-wrap:wrap;\n",
              "      gap: 12px;\n",
              "    }\n",
              "\n",
              "    .colab-df-convert {\n",
              "      background-color: #E8F0FE;\n",
              "      border: none;\n",
              "      border-radius: 50%;\n",
              "      cursor: pointer;\n",
              "      display: none;\n",
              "      fill: #1967D2;\n",
              "      height: 32px;\n",
              "      padding: 0 0 0 0;\n",
              "      width: 32px;\n",
              "    }\n",
              "\n",
              "    .colab-df-convert:hover {\n",
              "      background-color: #E2EBFA;\n",
              "      box-shadow: 0px 1px 2px rgba(60, 64, 67, 0.3), 0px 1px 3px 1px rgba(60, 64, 67, 0.15);\n",
              "      fill: #174EA6;\n",
              "    }\n",
              "\n",
              "    [theme=dark] .colab-df-convert {\n",
              "      background-color: #3B4455;\n",
              "      fill: #D2E3FC;\n",
              "    }\n",
              "\n",
              "    [theme=dark] .colab-df-convert:hover {\n",
              "      background-color: #434B5C;\n",
              "      box-shadow: 0px 1px 3px 1px rgba(0, 0, 0, 0.15);\n",
              "      filter: drop-shadow(0px 1px 2px rgba(0, 0, 0, 0.3));\n",
              "      fill: #FFFFFF;\n",
              "    }\n",
              "  </style>\n",
              "\n",
              "      <script>\n",
              "        const buttonEl =\n",
              "          document.querySelector('#df-0d7ed7bc-9f3e-4fa7-9fa7-0922f44a50ec button.colab-df-convert');\n",
              "        buttonEl.style.display =\n",
              "          google.colab.kernel.accessAllowed ? 'block' : 'none';\n",
              "\n",
              "        async function convertToInteractive(key) {\n",
              "          const element = document.querySelector('#df-0d7ed7bc-9f3e-4fa7-9fa7-0922f44a50ec');\n",
              "          const dataTable =\n",
              "            await google.colab.kernel.invokeFunction('convertToInteractive',\n",
              "                                                     [key], {});\n",
              "          if (!dataTable) return;\n",
              "\n",
              "          const docLinkHtml = 'Like what you see? Visit the ' +\n",
              "            '<a target=\"_blank\" href=https://colab.research.google.com/notebooks/data_table.ipynb>data table notebook</a>'\n",
              "            + ' to learn more about interactive tables.';\n",
              "          element.innerHTML = '';\n",
              "          dataTable['output_type'] = 'display_data';\n",
              "          await google.colab.output.renderOutput(dataTable, element);\n",
              "          const docLink = document.createElement('div');\n",
              "          docLink.innerHTML = docLinkHtml;\n",
              "          element.appendChild(docLink);\n",
              "        }\n",
              "      </script>\n",
              "    </div>\n",
              "  </div>\n",
              "  "
            ]
          },
          "metadata": {},
          "execution_count": 153
        }
      ]
    },
    {
      "cell_type": "code",
      "source": [
        "zotero_ = zotero_.rename(columns = {'Author':'Authors', 'Publication Title':'Journal/Book'})"
      ],
      "metadata": {
        "id": "lN1rKpAQzozi"
      },
      "execution_count": 132,
      "outputs": []
    },
    {
      "cell_type": "code",
      "source": [
        "zotero_.shape"
      ],
      "metadata": {
        "colab": {
          "base_uri": "https://localhost:8080/"
        },
        "id": "H-JjKBLI7aE_",
        "outputId": "c34f6e00-e4c2-421d-c90e-996bff8efd20"
      },
      "execution_count": 155,
      "outputs": [
        {
          "output_type": "execute_result",
          "data": {
            "text/plain": [
              "(189, 6)"
            ]
          },
          "metadata": {},
          "execution_count": 155
        }
      ]
    },
    {
      "cell_type": "code",
      "source": [
        "pub.shape"
      ],
      "metadata": {
        "colab": {
          "base_uri": "https://localhost:8080/"
        },
        "id": "CEsmRJAA9arG",
        "outputId": "5ab29971-55c1-4801-9f73-6a80bc97603e"
      },
      "execution_count": 156,
      "outputs": [
        {
          "output_type": "execute_result",
          "data": {
            "text/plain": [
              "(282, 5)"
            ]
          },
          "metadata": {},
          "execution_count": 156
        }
      ]
    },
    {
      "cell_type": "code",
      "source": [
        "articles = pd.concat([zotero_, pub])"
      ],
      "metadata": {
        "id": "GKyX0gaC0N-c"
      },
      "execution_count": 157,
      "outputs": []
    },
    {
      "cell_type": "code",
      "source": [
        "articles.head()"
      ],
      "metadata": {
        "colab": {
          "base_uri": "https://localhost:8080/",
          "height": 354
        },
        "id": "2V-Nqftx0R69",
        "outputId": "a176f962-f9d2-4111-bf9c-79875ead1c0b"
      },
      "execution_count": 158,
      "outputs": [
        {
          "output_type": "execute_result",
          "data": {
            "text/plain": [
              "   Publication Year                                            Authors  \\\n",
              "0              2015  Traschütz, Andreas; Kreiter, Andreas K.; Wegen...   \n",
              "1              2010  Benassi, Mariagrazia; Simonelli, Letizia; Giov...   \n",
              "2              2016  Gori, Simone; Seitz, Aaron R.; Ronconi, Luca; ...   \n",
              "3              1996  Eden, Guinevere F.; VanMeter, John W.; Rumsey,...   \n",
              "4              1991  Livingstone, Margaret S.; Rosen, Glenn D.; Dri...   \n",
              "\n",
              "                                               Title  \\\n",
              "0  Transient activity in monkey area MT represent...   \n",
              "1  Coherence motion perception in developmental d...   \n",
              "2  Multiple Causal Links Between Magnocellular–Do...   \n",
              "3  Abnormal processing of visual motion in dyslex...   \n",
              "4  Physiological and anatomical evidence for a ma...   \n",
              "\n",
              "                                        Journal/Book                      DOI  \\\n",
              "0                         Journal of Neurophysiology    10.1152/jn.00335.2014   \n",
              "1                                           Dyslexia          10.1002/dys.412   \n",
              "2                                    Cerebral Cortex    10.1093/cercor/bhv206   \n",
              "3                                             Nature         10.1038/382066a0   \n",
              "4  Proceedings of the National Academy of Science...  10.1073/pnas.88.18.7943   \n",
              "\n",
              "                                       Abstract Note  \n",
              "0  Neurons in the middle temporal area (MT) respo...  \n",
              "1  The magnitude of the association between devel...  \n",
              "2  Although impaired auditory-phonological proces...  \n",
              "3  IT is widely accepted that dyslexics have defi...  \n",
              "4  Abstract Several behavioral studies have shown...  "
            ],
            "text/html": [
              "\n",
              "  <div id=\"df-f9dfba46-d158-48c1-85b7-41b5ec6ab13b\">\n",
              "    <div class=\"colab-df-container\">\n",
              "      <div>\n",
              "<style scoped>\n",
              "    .dataframe tbody tr th:only-of-type {\n",
              "        vertical-align: middle;\n",
              "    }\n",
              "\n",
              "    .dataframe tbody tr th {\n",
              "        vertical-align: top;\n",
              "    }\n",
              "\n",
              "    .dataframe thead th {\n",
              "        text-align: right;\n",
              "    }\n",
              "</style>\n",
              "<table border=\"1\" class=\"dataframe\">\n",
              "  <thead>\n",
              "    <tr style=\"text-align: right;\">\n",
              "      <th></th>\n",
              "      <th>Publication Year</th>\n",
              "      <th>Authors</th>\n",
              "      <th>Title</th>\n",
              "      <th>Journal/Book</th>\n",
              "      <th>DOI</th>\n",
              "      <th>Abstract Note</th>\n",
              "    </tr>\n",
              "  </thead>\n",
              "  <tbody>\n",
              "    <tr>\n",
              "      <th>0</th>\n",
              "      <td>2015</td>\n",
              "      <td>Traschütz, Andreas; Kreiter, Andreas K.; Wegen...</td>\n",
              "      <td>Transient activity in monkey area MT represent...</td>\n",
              "      <td>Journal of Neurophysiology</td>\n",
              "      <td>10.1152/jn.00335.2014</td>\n",
              "      <td>Neurons in the middle temporal area (MT) respo...</td>\n",
              "    </tr>\n",
              "    <tr>\n",
              "      <th>1</th>\n",
              "      <td>2010</td>\n",
              "      <td>Benassi, Mariagrazia; Simonelli, Letizia; Giov...</td>\n",
              "      <td>Coherence motion perception in developmental d...</td>\n",
              "      <td>Dyslexia</td>\n",
              "      <td>10.1002/dys.412</td>\n",
              "      <td>The magnitude of the association between devel...</td>\n",
              "    </tr>\n",
              "    <tr>\n",
              "      <th>2</th>\n",
              "      <td>2016</td>\n",
              "      <td>Gori, Simone; Seitz, Aaron R.; Ronconi, Luca; ...</td>\n",
              "      <td>Multiple Causal Links Between Magnocellular–Do...</td>\n",
              "      <td>Cerebral Cortex</td>\n",
              "      <td>10.1093/cercor/bhv206</td>\n",
              "      <td>Although impaired auditory-phonological proces...</td>\n",
              "    </tr>\n",
              "    <tr>\n",
              "      <th>3</th>\n",
              "      <td>1996</td>\n",
              "      <td>Eden, Guinevere F.; VanMeter, John W.; Rumsey,...</td>\n",
              "      <td>Abnormal processing of visual motion in dyslex...</td>\n",
              "      <td>Nature</td>\n",
              "      <td>10.1038/382066a0</td>\n",
              "      <td>IT is widely accepted that dyslexics have defi...</td>\n",
              "    </tr>\n",
              "    <tr>\n",
              "      <th>4</th>\n",
              "      <td>1991</td>\n",
              "      <td>Livingstone, Margaret S.; Rosen, Glenn D.; Dri...</td>\n",
              "      <td>Physiological and anatomical evidence for a ma...</td>\n",
              "      <td>Proceedings of the National Academy of Science...</td>\n",
              "      <td>10.1073/pnas.88.18.7943</td>\n",
              "      <td>Abstract Several behavioral studies have shown...</td>\n",
              "    </tr>\n",
              "  </tbody>\n",
              "</table>\n",
              "</div>\n",
              "      <button class=\"colab-df-convert\" onclick=\"convertToInteractive('df-f9dfba46-d158-48c1-85b7-41b5ec6ab13b')\"\n",
              "              title=\"Convert this dataframe to an interactive table.\"\n",
              "              style=\"display:none;\">\n",
              "        \n",
              "  <svg xmlns=\"http://www.w3.org/2000/svg\" height=\"24px\"viewBox=\"0 0 24 24\"\n",
              "       width=\"24px\">\n",
              "    <path d=\"M0 0h24v24H0V0z\" fill=\"none\"/>\n",
              "    <path d=\"M18.56 5.44l.94 2.06.94-2.06 2.06-.94-2.06-.94-.94-2.06-.94 2.06-2.06.94zm-11 1L8.5 8.5l.94-2.06 2.06-.94-2.06-.94L8.5 2.5l-.94 2.06-2.06.94zm10 10l.94 2.06.94-2.06 2.06-.94-2.06-.94-.94-2.06-.94 2.06-2.06.94z\"/><path d=\"M17.41 7.96l-1.37-1.37c-.4-.4-.92-.59-1.43-.59-.52 0-1.04.2-1.43.59L10.3 9.45l-7.72 7.72c-.78.78-.78 2.05 0 2.83L4 21.41c.39.39.9.59 1.41.59.51 0 1.02-.2 1.41-.59l7.78-7.78 2.81-2.81c.8-.78.8-2.07 0-2.86zM5.41 20L4 18.59l7.72-7.72 1.47 1.35L5.41 20z\"/>\n",
              "  </svg>\n",
              "      </button>\n",
              "      \n",
              "  <style>\n",
              "    .colab-df-container {\n",
              "      display:flex;\n",
              "      flex-wrap:wrap;\n",
              "      gap: 12px;\n",
              "    }\n",
              "\n",
              "    .colab-df-convert {\n",
              "      background-color: #E8F0FE;\n",
              "      border: none;\n",
              "      border-radius: 50%;\n",
              "      cursor: pointer;\n",
              "      display: none;\n",
              "      fill: #1967D2;\n",
              "      height: 32px;\n",
              "      padding: 0 0 0 0;\n",
              "      width: 32px;\n",
              "    }\n",
              "\n",
              "    .colab-df-convert:hover {\n",
              "      background-color: #E2EBFA;\n",
              "      box-shadow: 0px 1px 2px rgba(60, 64, 67, 0.3), 0px 1px 3px 1px rgba(60, 64, 67, 0.15);\n",
              "      fill: #174EA6;\n",
              "    }\n",
              "\n",
              "    [theme=dark] .colab-df-convert {\n",
              "      background-color: #3B4455;\n",
              "      fill: #D2E3FC;\n",
              "    }\n",
              "\n",
              "    [theme=dark] .colab-df-convert:hover {\n",
              "      background-color: #434B5C;\n",
              "      box-shadow: 0px 1px 3px 1px rgba(0, 0, 0, 0.15);\n",
              "      filter: drop-shadow(0px 1px 2px rgba(0, 0, 0, 0.3));\n",
              "      fill: #FFFFFF;\n",
              "    }\n",
              "  </style>\n",
              "\n",
              "      <script>\n",
              "        const buttonEl =\n",
              "          document.querySelector('#df-f9dfba46-d158-48c1-85b7-41b5ec6ab13b button.colab-df-convert');\n",
              "        buttonEl.style.display =\n",
              "          google.colab.kernel.accessAllowed ? 'block' : 'none';\n",
              "\n",
              "        async function convertToInteractive(key) {\n",
              "          const element = document.querySelector('#df-f9dfba46-d158-48c1-85b7-41b5ec6ab13b');\n",
              "          const dataTable =\n",
              "            await google.colab.kernel.invokeFunction('convertToInteractive',\n",
              "                                                     [key], {});\n",
              "          if (!dataTable) return;\n",
              "\n",
              "          const docLinkHtml = 'Like what you see? Visit the ' +\n",
              "            '<a target=\"_blank\" href=https://colab.research.google.com/notebooks/data_table.ipynb>data table notebook</a>'\n",
              "            + ' to learn more about interactive tables.';\n",
              "          element.innerHTML = '';\n",
              "          dataTable['output_type'] = 'display_data';\n",
              "          await google.colab.output.renderOutput(dataTable, element);\n",
              "          const docLink = document.createElement('div');\n",
              "          docLink.innerHTML = docLinkHtml;\n",
              "          element.appendChild(docLink);\n",
              "        }\n",
              "      </script>\n",
              "    </div>\n",
              "  </div>\n",
              "  "
            ]
          },
          "metadata": {},
          "execution_count": 158
        }
      ]
    },
    {
      "cell_type": "code",
      "source": [
        "articles.to_csv(working_path.joinpath('articles.csv'))"
      ],
      "metadata": {
        "id": "-KjqHdkH0TaK"
      },
      "execution_count": 159,
      "outputs": []
    },
    {
      "cell_type": "code",
      "source": [
        "articles.shape"
      ],
      "metadata": {
        "colab": {
          "base_uri": "https://localhost:8080/"
        },
        "id": "gKz5xvo11X6k",
        "outputId": "34e1a8d1-f992-469d-e862-3184e6f1a7fb"
      },
      "execution_count": 160,
      "outputs": [
        {
          "output_type": "execute_result",
          "data": {
            "text/plain": [
              "(471, 6)"
            ]
          },
          "metadata": {},
          "execution_count": 160
        }
      ]
    },
    {
      "cell_type": "code",
      "source": [],
      "metadata": {
        "id": "y7b9wEVv9gI9"
      },
      "execution_count": null,
      "outputs": []
    }
  ]
}